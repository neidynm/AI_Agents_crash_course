{
 "cells": [
  {
   "cell_type": "code",
   "execution_count": 5,
   "id": "d3ff1b50-d912-4067-8975-fab8133a092e",
   "metadata": {},
   "outputs": [],
   "source": [
    "import io\n",
    "import zipfile\n",
    "import requests\n",
    "import frontmatter\n",
    "import logging\n",
    "\n",
    "def read_repo_data(repo_owner, repo_name, branch=\"main\"):\n",
    "    \"\"\"\n",
    "    Download and parse all markdown files from a GitHub repository.\n",
    "    \n",
    "    Args:\n",
    "        repo_owner (str): GitHub username or organization\n",
    "        repo_name (str): Repository name\n",
    "        branch (str): Branch name (default: main)\n",
    "    \n",
    "    Returns:\n",
    "        List[dict]: File content + frontmatter + metadata\n",
    "    \"\"\"\n",
    "    url = f\"https://codeload.github.com/{repo_owner}/{repo_name}/zip/refs/heads/{branch}\"\n",
    "    resp = requests.get(url)\n",
    "\n",
    "    if resp.status_code == 404 and branch == \"main\":\n",
    "        # Try fallback to master\n",
    "        return read_repo_data(repo_owner, repo_name, branch=\"master\")\n",
    "    \n",
    "    if resp.status_code != 200:\n",
    "        raise Exception(f\"Failed to download repository: HTTP {resp.status_code}\")\n",
    "\n",
    "    repository_data = []\n",
    "    with zipfile.ZipFile(io.BytesIO(resp.content)) as zf:\n",
    "        for file_info in zf.infolist():\n",
    "            filename = file_info.filename\n",
    "            if not filename.lower().endswith((\".md\", \".mdx\")):\n",
    "                continue\n",
    "            try:\n",
    "                with zf.open(file_info) as f_in:\n",
    "                    content = f_in.read().decode(\"utf-8\", errors=\"replace\")\n",
    "                    post = frontmatter.loads(content)\n",
    "                    data = post.to_dict()\n",
    "                    data.update({\n",
    "                        \"filename\": filename,\n",
    "                        \"repo\": repo_name,\n",
    "                        \"owner\": repo_owner,\n",
    "                        \"branch\": branch\n",
    "                    })\n",
    "                    repository_data.append(data)\n",
    "            except Exception as e:\n",
    "                logging.warning(\"Error processing %s: %s\", filename, e)\n",
    "                continue\n",
    "\n",
    "    return repository_data"
   ]
  },
  {
   "cell_type": "code",
   "execution_count": 8,
   "id": "1bc5e41f-65a7-466d-9cb0-fb7ad4e6be9b",
   "metadata": {},
   "outputs": [
    {
     "name": "stdout",
     "output_type": "stream",
     "text": [
      "FAQ documents: 1217\n"
     ]
    }
   ],
   "source": [
    "dtc_faq = read_repo_data('DataTalksClub', 'faq')\n",
    "print(f\"FAQ documents: {len(dtc_faq)}\")\n"
   ]
  },
  {
   "cell_type": "code",
   "execution_count": 3,
   "id": "294ec920-2628-4c59-a809-333f55eab881",
   "metadata": {},
   "outputs": [],
   "source": [
    "def sliding_window(seq, size, step):\n",
    "    if size <= 0 or step <= 0:\n",
    "        raise ValueError(\"size and step must be positive\")\n",
    "    n = len(seq)\n",
    "    result = []\n",
    "    for i in range(0, n, step):\n",
    "        chunk = seq[i:i+size]\n",
    "        result.append({'start': i, 'chunk': chunk})\n",
    "        if i + size >= n:\n",
    "            break   \n",
    "    return result"
   ]
  },
  {
   "cell_type": "code",
   "execution_count": 13,
   "id": "79838f88-79c8-4f86-bc23-4915433d9c09",
   "metadata": {},
   "outputs": [],
   "source": [
    "data = list(dtc_faq)\n",
    "windows = sliding_window(data, size=4, step=2)\n"
   ]
  },
  {
   "cell_type": "code",
   "execution_count": 14,
   "id": "5fa357d7-3c06-47e6-9653-142434992570",
   "metadata": {},
   "outputs": [],
   "source": [
    "import json\n",
    "\n",
    "with open(\"windows_chuncks.json\", \"w\") as f:\n",
    "    json.dump(windows, f, indent=2)"
   ]
  },
  {
   "cell_type": "code",
   "execution_count": null,
   "id": "f96282fd-202f-4d9c-8f94-5e588da5ef81",
   "metadata": {},
   "outputs": [],
   "source": []
  }
 ],
 "metadata": {
  "kernelspec": {
   "display_name": "Python (uv)",
   "language": "python",
   "name": "uv-env"
  },
  "language_info": {
   "codemirror_mode": {
    "name": "ipython",
    "version": 3
   },
   "file_extension": ".py",
   "mimetype": "text/x-python",
   "name": "python",
   "nbconvert_exporter": "python",
   "pygments_lexer": "ipython3",
   "version": "3.12.1"
  }
 },
 "nbformat": 4,
 "nbformat_minor": 5
}
