{
 "cells": [
  {
   "cell_type": "code",
   "execution_count": 4,
   "id": "d3ff1b50-d912-4067-8975-fab8133a092e",
   "metadata": {},
   "outputs": [],
   "source": [
    "import io\n",
    "import zipfile\n",
    "import requests\n",
    "import frontmatter\n",
    "import logging\n",
    "from tqdm import tqdm\n",
    "from minsearch import Index\n",
    "from minsearch import VectorSearch\n",
    "from sentence_transformers import SentenceTransformer\n",
    "\n",
    "def read_repo_data(repo_owner, repo_name, branch=\"main\"):\n",
    "    \"\"\"\n",
    "      Download and parse all markdown files from a GitHub repository.\n",
    "    Yields one document (dict) at a time to avoid loading everything into memory.\n",
    "    \n",
    "    Args:\n",
    "        repo_owner (str): GitHub username or organization\n",
    "        repo_name (str): Repository name\n",
    "        branch (str): Branch name (default: main)\n",
    "\n",
    "    \"\"\"\n",
    "    url = f\"https://codeload.github.com/{repo_owner}/{repo_name}/zip/refs/heads/{branch}\"\n",
    "    resp = requests.get(url)\n",
    "\n",
    "    if resp.status_code == 404 and branch == \"main\":\n",
    "        # Try fallback to master\n",
    "        return read_repo_data(repo_owner, repo_name, branch=\"master\")\n",
    "    \n",
    "    if resp.status_code != 200:\n",
    "        raise Exception(f\"Failed to download repository: HTTP {resp.status_code}\")\n",
    "    with zipfile.ZipFile(io.BytesIO(resp.content)) as zf:\n",
    "        for file_info in zf.infolist():\n",
    "            filename = file_info.filename\n",
    "            if not filename.lower().endswith((\".md\", \".mdx\")):\n",
    "                continue\n",
    "            try:\n",
    "                with zf.open(file_info) as f_in:\n",
    "                    content = f_in.read().decode(\"utf-8\", errors=\"replace\")\n",
    "                    post = frontmatter.loads(content)\n",
    "                    data = post.to_dict()\n",
    "                    data.update({\n",
    "                        \"filename\": filename,\n",
    "                        \"repo\": repo_name,\n",
    "                        \"owner\": repo_owner,\n",
    "                        \"branch\": branch\n",
    "                    })\n",
    "                    yield data\n",
    "            except Exception as e:\n",
    "                logging.warning(\"Error processing %s: %s\", filename, e)\n",
    "                continue"
   ]
  },
  {
   "cell_type": "code",
   "execution_count": 5,
   "id": "40e451e7-7cbd-48d1-80a6-786dbd2e7965",
   "metadata": {},
   "outputs": [],
   "source": [
    "def sliding_window(seq, size, step):\n",
    "    \"\"\"Yield overlapping chunks from a long string.\"\"\"\n",
    "    if size <= 0 or step <= 0:\n",
    "        raise ValueError(\"size and step must be positive\")\n",
    "    n = len(seq)\n",
    "    for i in range(0, n, step):\n",
    "        yield {\"start\": i, \"chunk\": seq[i:i+size]}\n",
    "        if i + size >= n:\n",
    "            break"
   ]
  },
  {
   "cell_type": "code",
   "execution_count": 7,
   "id": "1bc5e41f-65a7-466d-9cb0-fb7ad4e6be9b",
   "metadata": {},
   "outputs": [
    {
     "name": "stdout",
     "output_type": "stream",
     "text": [
      " Downloading and chunking documents...\n"
     ]
    },
    {
     "name": "stderr",
     "output_type": "stream",
     "text": [
      "Processing files: 95it [00:01, 54.99it/s]"
     ]
    },
    {
     "name": "stdout",
     "output_type": "stream",
     "text": [
      "Collected 575 chunks. Building index...\n",
      " Indexing complete!\n"
     ]
    },
    {
     "name": "stderr",
     "output_type": "stream",
     "text": [
      "\n"
     ]
    }
   ],
   "source": [
    "print(\" Downloading and chunking documents...\")\n",
    "evidently_chunks = []\n",
    "\n",
    "for doc in tqdm(read_repo_data(\"evidentlyai\", \"docs\"), desc=\"Processing files\"):\n",
    "    doc_copy = doc.copy()\n",
    "    content = doc_copy.pop(\"content\", \"\")\n",
    "    for chunk in sliding_window(content, size=2000, step=1000):\n",
    "        chunk.update(doc_copy)\n",
    "        evidently_chunks.append(chunk)\n",
    "\n",
    "print(f\"Collected {len(evidently_chunks)} chunks. Building index...\")\n",
    "\n",
    "index = Index(\n",
    "    text_fields=[\"chunk\", \"title\", \"description\", \"filename\"],\n",
    "    keyword_fields=[]\n",
    ")\n",
    "index.fit(evidently_chunks)\n",
    "\n",
    "print(\" Indexing complete!\")\n"
   ]
  },
  {
   "cell_type": "code",
   "execution_count": 8,
   "id": "53e9f6f8-7842-48fa-9da5-0eb2c7fef734",
   "metadata": {},
   "outputs": [
    {
     "name": "stderr",
     "output_type": "stream",
     "text": [
      "100%|████████████████████████████████████████████| 575/575 [05:00<00:00,  1.91it/s]\n"
     ]
    },
    {
     "ename": "NameError",
     "evalue": "name 'np' is not defined",
     "output_type": "error",
     "traceback": [
      "\u001b[31m---------------------------------------------------------------------------\u001b[39m",
      "\u001b[31mNameError\u001b[39m                                 Traceback (most recent call last)",
      "\u001b[36mCell\u001b[39m\u001b[36m \u001b[39m\u001b[32mIn[8]\u001b[39m\u001b[32m, line 16\u001b[39m\n\u001b[32m     13\u001b[39m     evidently_embeddings.append(v)\n\u001b[32m     15\u001b[39m \u001b[38;5;66;03m# Convert the list of embeddings into a NumPy array for efficient numerical operations\u001b[39;00m\n\u001b[32m---> \u001b[39m\u001b[32m16\u001b[39m evidently_embeddings = \u001b[43mnp\u001b[49m.array(evidently_embeddings)\n\u001b[32m     18\u001b[39m \u001b[38;5;66;03m# Initialize a vector search index (for semantic similarity search)\u001b[39;00m\n\u001b[32m     19\u001b[39m evidently_vindex = VectorSearch()\n",
      "\u001b[31mNameError\u001b[39m: name 'np' is not defined"
     ]
    }
   ],
   "source": [
    "# Initialize an empty list to store embeddings for each chunk\n",
    "evidently_embeddings = []\n",
    "\n",
    "# Load a pre-trained sentence transformer model for creating embeddings\n",
    "# 'multi-qa-distilbert-cos-v1' is good for semantic search and question-answering\n",
    "embedding_model = SentenceTransformer('multi-qa-distilbert-cos-v1')\n",
    "\n",
    "# Loop through each document chunk in evidently_chunks\n",
    "for d in tqdm(evidently_chunks):  # tqdm shows a progress bar\n",
    "    # Encode the chunk text into a vector (embedding)\n",
    "    v = embedding_model.encode(d['chunk'])\n",
    "    # Append the embedding to the list\n",
    "    evidently_embeddings.append(v)\n",
    "\n",
    "# Convert the list of embeddings into a NumPy array for efficient numerical operations\n",
    "evidently_embeddings = np.array(evidently_embeddings)\n",
    "\n",
    "# Initialize a vector search index (for semantic similarity search)\n",
    "evidently_vindex = VectorSearch()\n",
    "\n",
    "# Fit the vector index with embeddings and associate them with their corresponding chunks\n",
    "# This prepares the index for fast vector-based search later\n",
    "evidently_vindex.fit(evidently_embeddings, evidently_chunks)\n"
   ]
  },
  {
   "cell_type": "code",
   "execution_count": null,
   "id": "46f6510c-6486-4255-91c9-f90951aa5127",
   "metadata": {},
   "outputs": [],
   "source": [
    "# Function for simple text-based search using the pre-built index\n",
    "def text_search(query):\n",
    "    # Search the index for the query and return top 5 results\n",
    "    return index.search(query, num_results=5)\n",
    "\n",
    "\n",
    "# Function for semantic vector-based search\n",
    "def vector_search(query):\n",
    "    # Encode the query into a vector using the embedding model\n",
    "    q = embedding_model.encode(query)\n",
    "    # Search the vector index for the top 5 most similar chunks\n",
    "    return evidently_vindex.search(q, num_results=5)\n",
    "\n",
    "\n",
    "# Function that combines both text search and vector search results\n",
    "def hybrid_search(query):\n",
    "    # Perform text-based search\n",
    "    text_results = text_search(query)\n",
    "    # Perform vector-based search\n",
    "    vector_results = vector_search(query)\n",
    "    \n",
    "    # Combine results and remove duplicates based on filename\n",
    "    seen_ids = set()         # To track which files have already been added\n",
    "    combined_results = []    # Final list of combined search results\n",
    "\n",
    "    # Loop through all results from both searches\n",
    "    for result in text_results + vector_results:\n",
    "        # Only add the result if its filename hasn't been seen yet\n",
    "        if result['filename'] not in seen_ids:\n",
    "            seen_ids.add(result['filename'])\n",
    "            combined_results.append(result)\n",
    "    \n",
    "    # Return the deduplicated combined results\n",
    "    return combined_results\n",
    "\n"
   ]
  },
  {
   "cell_type": "code",
   "execution_count": null,
   "id": "b0da8c4c-641e-4f8a-9875-cbab2b9bc56e",
   "metadata": {},
   "outputs": [],
   "source": [
    "print('Question: What should a test dataset contain for AI evaluation? [text search]')\n",
    "results = text_search(\"What should a test dataset contain for AI evaluation?\")\n",
    "for r in results:\n",
    "    print(r['filename'], r['chunk'][:100])  # print first 200 characters\n"
   ]
  },
  {
   "cell_type": "code",
   "execution_count": null,
   "id": "62830338-6128-4f29-a8ad-f198905e7383",
   "metadata": {},
   "outputs": [],
   "source": [
    "print('Question: What components are required in a test dataset to evaluate AI? [text search]')\n",
    "results = text_search(\"How to install Evidently AI?\")\n",
    "for r in results:\n",
    "    print(r['filename'], r['chunk'][:100])  # print first 200 characters\n"
   ]
  },
  {
   "cell_type": "code",
   "execution_count": null,
   "id": "6a0a524f-7c3f-46ec-a35a-906f6f9b58b2",
   "metadata": {},
   "outputs": [],
   "source": [
    "\n",
    "print('Question: What should a test dataset contain for AI evaluation? [Vector search]')\n",
    "results = vector_search(\" What should a test dataset contain for AI evaluation?\")\n",
    "for r in results:\n",
    "    print(r['filename'], r['chunk'][:200])\n"
   ]
  },
  {
   "cell_type": "code",
   "execution_count": null,
   "id": "f796c6b2-4711-4ea1-a445-388126170b0e",
   "metadata": {},
   "outputs": [],
   "source": [
    "\n",
    "print('Question:What components are required in a test dataset to evaluate AI? [Vector search]')\n",
    "results = vector_search(\"What components are required in a test dataset to evaluate AI?\")\n",
    "for r in results:\n",
    "    print(r['filename'], r['chunk'][:200])\n"
   ]
  },
  {
   "cell_type": "code",
   "execution_count": null,
   "id": "4f26db06-f415-4df4-9c74-587729169626",
   "metadata": {},
   "outputs": [],
   "source": [
    "print('Question: What should a test dataset contain for AI evaluation? [Hybrid search]')\n",
    "results = hybrid_search(\"What should a test dataset contain for AI evaluation?\")\n",
    "for r in results:\n",
    "    print(r['filename'], r['chunk'][:200])"
   ]
  },
  {
   "cell_type": "code",
   "execution_count": null,
   "id": "aeb5853b-e2c4-4f06-95cc-8db0883bf16c",
   "metadata": {},
   "outputs": [],
   "source": []
  },
  {
   "cell_type": "code",
   "execution_count": null,
   "id": "46836ed8-7782-4545-a40d-c86a51222df0",
   "metadata": {},
   "outputs": [],
   "source": []
  }
 ],
 "metadata": {
  "kernelspec": {
   "display_name": "Python (uv)",
   "language": "python",
   "name": "uv-env"
  },
  "language_info": {
   "codemirror_mode": {
    "name": "ipython",
    "version": 3
   },
   "file_extension": ".py",
   "mimetype": "text/x-python",
   "name": "python",
   "nbconvert_exporter": "python",
   "pygments_lexer": "ipython3",
   "version": "3.12.1"
  }
 },
 "nbformat": 4,
 "nbformat_minor": 5
}
